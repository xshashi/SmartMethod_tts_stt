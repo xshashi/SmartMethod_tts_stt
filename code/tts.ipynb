{
 "cells": [
  {
   "cell_type": "code",
   "execution_count": 1,
   "id": "1d0e97a6",
   "metadata": {},
   "outputs": [
    {
     "name": "stdout",
     "output_type": "stream",
     "text": [
      "Requirement already satisfied: ibm_watson in c:\\users\\admin\\appdata\\local\\programs\\python\\python39\\lib\\site-packages (5.2.0)\n",
      "Requirement already satisfied: requests<3.0,>=2.0 in c:\\users\\admin\\appdata\\local\\programs\\python\\python39\\lib\\site-packages (from ibm_watson) (2.26.0)\n",
      "Requirement already satisfied: python_dateutil>=2.5.3 in c:\\users\\admin\\appdata\\local\\programs\\python\\python39\\lib\\site-packages (from ibm_watson) (2.8.2)\n",
      "Requirement already satisfied: websocket-client==0.48.0 in c:\\users\\admin\\appdata\\local\\programs\\python\\python39\\lib\\site-packages (from ibm_watson) (0.48.0)\n",
      "Requirement already satisfied: ibm_cloud_sdk_core==3.*,>=3.3.6 in c:\\users\\admin\\appdata\\local\\programs\\python\\python39\\lib\\site-packages (from ibm_watson) (3.10.1)\n",
      "Requirement already satisfied: PyJWT<3.0.0,>=2.0.1 in c:\\users\\admin\\appdata\\local\\programs\\python\\python39\\lib\\site-packages (from ibm_cloud_sdk_core==3.*,>=3.3.6->ibm_watson) (2.1.0)\n",
      "Requirement already satisfied: six in c:\\users\\admin\\appdata\\local\\programs\\python\\python39\\lib\\site-packages (from websocket-client==0.48.0->ibm_watson) (1.16.0)\n",
      "Requirement already satisfied: urllib3<1.27,>=1.21.1 in c:\\users\\admin\\appdata\\local\\programs\\python\\python39\\lib\\site-packages (from requests<3.0,>=2.0->ibm_watson) (1.26.6)\n",
      "Requirement already satisfied: certifi>=2017.4.17 in c:\\users\\admin\\appdata\\local\\programs\\python\\python39\\lib\\site-packages (from requests<3.0,>=2.0->ibm_watson) (2021.5.30)\n",
      "Requirement already satisfied: charset-normalizer~=2.0.0 in c:\\users\\admin\\appdata\\local\\programs\\python\\python39\\lib\\site-packages (from requests<3.0,>=2.0->ibm_watson) (2.0.4)\n",
      "Requirement already satisfied: idna<4,>=2.5 in c:\\users\\admin\\appdata\\local\\programs\\python\\python39\\lib\\site-packages (from requests<3.0,>=2.0->ibm_watson) (3.2)\n"
     ]
    }
   ],
   "source": [
    "!pip install ibm_watson"
   ]
  },
  {
   "cell_type": "code",
   "execution_count": 2,
   "id": "aba05493",
   "metadata": {},
   "outputs": [],
   "source": [
    "from ibm_watson import TextToSpeechV1\n",
    "from ibm_cloud_sdk_core.authenticators import IAMAuthenticator"
   ]
  },
  {
   "cell_type": "code",
   "execution_count": 3,
   "id": "7dd2df64",
   "metadata": {},
   "outputs": [],
   "source": [
    "apikey = 'IgTq7dOHf2dCqZUwBlNodu2oBBoEyCQFD8rQCq16BEhd'\n",
    "url = 'https://api.us-south.text-to-speech.watson.cloud.ibm.com/instances/e60a1fd5-d0e2-4603-9d97-be14a4eb74da'"
   ]
  },
  {
   "cell_type": "code",
   "execution_count": 4,
   "id": "56dfbdeb",
   "metadata": {},
   "outputs": [],
   "source": [
    "# Setup Service\n",
    "authenticator = IAMAuthenticator(apikey)\n",
    "tts = TextToSpeechV1(authenticator=authenticator)\n",
    "tts.set_service_url(url)"
   ]
  },
  {
   "cell_type": "markdown",
   "id": "fecb1890",
   "metadata": {},
   "source": [
    "## Reading from a File"
   ]
  },
  {
   "cell_type": "code",
   "execution_count": 5,
   "id": "2c415a50",
   "metadata": {},
   "outputs": [],
   "source": [
    "with open('output.txt', 'r') as f:\n",
    "    text = f.readlines()"
   ]
  },
  {
   "cell_type": "code",
   "execution_count": 6,
   "id": "db8d1527",
   "metadata": {},
   "outputs": [],
   "source": [
    "text = [line.replace('\\n','') for line in text]"
   ]
  },
  {
   "cell_type": "code",
   "execution_count": 7,
   "id": "309b16a2",
   "metadata": {},
   "outputs": [],
   "source": [
    "text = ''.join(str(line) for line in text)"
   ]
  },
  {
   "cell_type": "code",
   "execution_count": 9,
   "id": "d5174527",
   "metadata": {},
   "outputs": [],
   "source": [
    "with open('./Audio.mp3', 'wb') as audio_file:\n",
    "    res = tts.synthesize(text, accept='audio/mp3', voice='en-GB_JamesV3Voice').get_result()\n",
    "    audio_file.write(res.content)"
   ]
  },
  {
   "cell_type": "code",
   "execution_count": null,
   "id": "cb200c01",
   "metadata": {},
   "outputs": [],
   "source": []
  }
 ],
 "metadata": {
  "kernelspec": {
   "display_name": "Python 3 (ipykernel)",
   "language": "python",
   "name": "python3"
  },
  "language_info": {
   "codemirror_mode": {
    "name": "ipython",
    "version": 3
   },
   "file_extension": ".py",
   "mimetype": "text/x-python",
   "name": "python",
   "nbconvert_exporter": "python",
   "pygments_lexer": "ipython3",
   "version": "3.9.6"
  }
 },
 "nbformat": 4,
 "nbformat_minor": 5
}
